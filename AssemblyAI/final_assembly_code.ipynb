{
 "cells": [
  {
   "cell_type": "code",
   "execution_count": 4,
   "metadata": {},
   "outputs": [],
   "source": [
    "import requests\n",
    "import moviepy.editor as mp\n",
    "video = mp.VideoFileClip(\"Family.mp4\")"
   ]
  },
  {
   "cell_type": "code",
   "execution_count": 5,
   "metadata": {},
   "outputs": [],
   "source": [
    "API_KEY_ASSEMBLY = \"525723728d2e43d1bea63d255f7ac115\"\n",
    "audio = \"audio.wav\"\n",
    "headers = {'authorization': API_KEY_ASSEMBLY}\n",
    "\n",
    "upload_endpoint = \"https://api.assemblyai.com/v2/upload\"\n",
    "transcript_endpoint = \"https://api.assemblyai.com/v2/transcript\""
   ]
  },
  {
   "cell_type": "code",
   "execution_count": 6,
   "metadata": {},
   "outputs": [],
   "source": [
    "def read_file(audio, chunk = 5242880):\n",
    "    with open(audio, 'rb') as _file:\n",
    "        while True:\n",
    "            data = _file.read(chunk)\n",
    "            if not data:break\n",
    "            yield data\n"
   ]
  },
  {
   "cell_type": "code",
   "execution_count": 7,
   "metadata": {},
   "outputs": [
    {
     "data": {
      "text/plain": [
       "{'upload_url': 'https://cdn.assemblyai.com/upload/cc81a28c-db9c-4fe9-b490-d77b22e27d54'}"
      ]
     },
     "execution_count": 7,
     "metadata": {},
     "output_type": "execute_result"
    }
   ],
   "source": [
    "response = requests.post(upload_endpoint, headers=headers, data=read_file(audio))\n",
    "response.json()"
   ]
  },
  {
   "cell_type": "code",
   "execution_count": 8,
   "metadata": {},
   "outputs": [],
   "source": [
    "audio_url = response.json()['upload_url']"
   ]
  },
  {
   "cell_type": "code",
   "execution_count": 9,
   "metadata": {},
   "outputs": [],
   "source": [
    "json = {'audio_url':audio_url}\n",
    "response = requests.post(\"https://api.assemblyai.com/v2/transcript\", json=json, headers=headers)\n",
    "response.json()\n",
    "transcript_id = response.json()['id']"
   ]
  },
  {
   "cell_type": "code",
   "execution_count": 10,
   "metadata": {},
   "outputs": [],
   "source": [
    "polling_endpoint = transcript_endpoint + '/' + transcript_id\n",
    "response = requests.get(polling_endpoint, headers=headers)"
   ]
  },
  {
   "cell_type": "code",
   "execution_count": 11,
   "metadata": {},
   "outputs": [
    {
     "data": {
      "text/plain": [
       "{'id': '6x7vv2fs7a-6ff4-44f2-8735-68f32931c294',\n",
       " 'language_model': 'assemblyai_default',\n",
       " 'acoustic_model': 'assemblyai_default',\n",
       " 'language_code': 'en_us',\n",
       " 'status': 'processing',\n",
       " 'audio_url': 'https://cdn.assemblyai.com/upload/cc81a28c-db9c-4fe9-b490-d77b22e27d54',\n",
       " 'text': None,\n",
       " 'words': None,\n",
       " 'utterances': None,\n",
       " 'confidence': None,\n",
       " 'audio_duration': None,\n",
       " 'punctuate': True,\n",
       " 'format_text': True,\n",
       " 'dual_channel': None,\n",
       " 'webhook_url': None,\n",
       " 'webhook_status_code': None,\n",
       " 'webhook_auth': False,\n",
       " 'webhook_auth_header_name': None,\n",
       " 'speed_boost': False,\n",
       " 'auto_highlights_result': None,\n",
       " 'auto_highlights': False,\n",
       " 'audio_start_from': None,\n",
       " 'audio_end_at': None,\n",
       " 'word_boost': [],\n",
       " 'boost_param': None,\n",
       " 'filter_profanity': False,\n",
       " 'redact_pii': False,\n",
       " 'redact_pii_audio': False,\n",
       " 'redact_pii_audio_quality': None,\n",
       " 'redact_pii_policies': None,\n",
       " 'redact_pii_sub': None,\n",
       " 'speaker_labels': False,\n",
       " 'content_safety': False,\n",
       " 'iab_categories': False,\n",
       " 'content_safety_labels': {},\n",
       " 'iab_categories_result': {},\n",
       " 'language_detection': False,\n",
       " 'custom_spelling': None,\n",
       " 'throttled': None,\n",
       " 'auto_chapters': False,\n",
       " 'summarization': False,\n",
       " 'summary_type': None,\n",
       " 'summary_model': None,\n",
       " 'custom_topics': False,\n",
       " 'topics': [],\n",
       " 'speech_threshold': None,\n",
       " 'disfluencies': False,\n",
       " 'sentiment_analysis': False,\n",
       " 'chapters': None,\n",
       " 'sentiment_analysis_results': None,\n",
       " 'entity_detection': False,\n",
       " 'entities': None,\n",
       " 'summary': None,\n",
       " 'speakers_expected': None}"
      ]
     },
     "execution_count": 11,
     "metadata": {},
     "output_type": "execute_result"
    }
   ],
   "source": [
    "response.json()"
   ]
  },
  {
   "cell_type": "code",
   "execution_count": 12,
   "metadata": {},
   "outputs": [
    {
     "name": "stdout",
     "output_type": "stream",
     "text": [
      "How many people are there in your family? There are five people in my family. My father, mother, brother, sister and me. Does your family live in a house or an apartment? We live in a house in the countryside. What does your father do? My father is a doctor. He works at the local hospital. How old is your mother? She is 40 years old. One year younger than my father. Do you have any siblings? What's his or her name? Yes, I do. I have one elder brother, David, and one younger sister, Mary. Are you the oldest among your brothers and sisters? No, I'm not. I'm the second child in my family. What is your mother father like? My father likes playing football and my mother likes cooking. Do your parents let you stay out late? Of course not. They always ask me to get home before 10:00 p.m. Each night. Do you stay with your parents right now? No, but I used to. Does your family usually have dinner together? Yes, we do. My mom always prepares delicious meals for us.\n"
     ]
    }
   ],
   "source": [
    "while True:\n",
    "    response = requests.get(polling_endpoint, headers=headers)\n",
    "    if response.json()['status'] == 'completed':\n",
    "        predicted_text = response.json()['text']\n",
    "        print(predicted_text)\n",
    "        break\n",
    "    elif response.json()['status'] == 'error':\n",
    "        print(\"Error\")\n",
    "        break\n"
   ]
  },
  {
   "cell_type": "code",
   "execution_count": 13,
   "metadata": {},
   "outputs": [],
   "source": [
    "f = open(\"transcript.txt\", \"w\")\n",
    "f.write(predicted_text)\n",
    "f.close()"
   ]
  },
  {
   "cell_type": "code",
   "execution_count": 14,
   "metadata": {},
   "outputs": [
    {
     "name": "stdout",
     "output_type": "stream",
     "text": [
      "Interrupt\n"
     ]
    },
    {
     "data": {
      "text/plain": [
       "[]"
      ]
     },
     "execution_count": 14,
     "metadata": {},
     "output_type": "execute_result"
    },
    {
     "ename": "",
     "evalue": "",
     "output_type": "error",
     "traceback": [
      "\u001b[1;31mThe Kernel crashed while executing code in the the current cell or a previous cell. Please review the code in the cell(s) to identify a possible cause of the failure. Click <a href='https://aka.ms/vscodeJupyterKernelCrash'>here</a> for more info. View Jupyter <a href='command:jupyter.viewOutput'>log</a> for further details."
     ]
    }
   ],
   "source": [
    "file = open(\"transcript.txt\", \"r\")  \n",
    "text = file.read()\n",
    "pattern = \"countryside\"\n",
    "\n",
    "\n",
    "# Define the Base value. Here I am using d = 127 to represent all characters\n",
    "base = 127\n",
    "\n",
    "# Define the size of text and pattern\n",
    "textSize = len(text)\n",
    "patternSize = len(pattern)\n",
    "m = patternSize\n",
    "\n",
    "prime = 117\n",
    "# Calculate the Hash value using the hash function for pattern\n",
    "\n",
    "def calculateHash(patt):\n",
    "    hashValue = -1\n",
    "    m = patternSize\n",
    "    for char in patt:\n",
    "        hashValue += ord(char) * (base ** (m-1))\n",
    "        m -= 1\n",
    "\n",
    "    hashValue = hashValue % prime\n",
    "    return hashValue\n",
    "\n",
    "## Finding the pattern match\n",
    "\n",
    "patternHash = calculateHash(pattern)\n",
    "\n",
    "start = 0\n",
    "final = 0\n",
    "while start < textSize-patternSize+1:\n",
    "    curr_hash = calculateHash(text[start:start+patternSize])\n",
    "    if curr_hash == patternHash and text[start:start+patternSize] == pattern: final = start\n",
    "    start += 1\n",
    "    \n",
    "\n",
    "\n",
    "target_time = final/textSize * 76\n",
    "\n",
    "video = video.subclip(int(target_time))\n",
    "video.preview()"
   ]
  }
 ],
 "metadata": {
  "kernelspec": {
   "display_name": "Python 3",
   "language": "python",
   "name": "python3"
  },
  "language_info": {
   "codemirror_mode": {
    "name": "ipython",
    "version": 3
   },
   "file_extension": ".py",
   "mimetype": "text/x-python",
   "name": "python",
   "nbconvert_exporter": "python",
   "pygments_lexer": "ipython3",
   "version": "3.10.4"
  },
  "orig_nbformat": 4
 },
 "nbformat": 4,
 "nbformat_minor": 2
}
